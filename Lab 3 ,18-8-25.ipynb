{
  "cells": [
    {
      "cell_type": "markdown",
      "metadata": {
        "id": "view-in-github",
        "colab_type": "text"
      },
      "source": [
        "<a href=\"https://colab.research.google.com/github/sathwikd7/B14_pds_10d7/blob/main/Lab%203%20%2C18-8-25.ipynb\" target=\"_parent\"><img src=\"https://colab.research.google.com/assets/colab-badge.svg\" alt=\"Open In Colab\"/></a>"
      ]
    },
    {
      "cell_type": "code",
      "source": [
        "import numpy as np\n",
        "\n",
        "import matplotlib.pyplot as plt\n",
        "\n",
        "# 1. Create a 3x3x3 RGB image\n",
        "\n",
        "image = np.random.randint(0, 256, (3, 3, 3), dtype=np.uint8)\n",
        "\n",
        "print(\"Original RGB Image:\\n\", image)\n",
        "\n",
        "# 2. Extract individual channels\n",
        "\n",
        "red_channel = image[:, :, 0]\n",
        "\n",
        "green_channel = image[:, :, 1]\n",
        "\n",
        "blue_channel = image[:, :, 2]\n",
        "\n",
        "print(\"\\nRed Channel:\\n\", red_channel)\n",
        "\n",
        "print(\"\\nGreen Channel:\\n\", green_channel)\n",
        "\n",
        "print(\"\\nBlue Channel:\\n\", blue_channel)\n",
        "\n",
        "# 3. Compute average pixel intensity\n",
        "\n",
        "avg_red = np.mean(red_channel)\n",
        "\n",
        "avg_green = np.mean(green_channel)\n",
        "\n",
        "avg_blue = np.mean(blue_channel)\n",
        "\n",
        "print(f\"\\nAverage Intensities:\\nRed: {avg_red:.2f}, Green: {avg_green:.2f}, Blue: {avg_blue:.2f}\")\n",
        "\n",
        "# 4. Brighten image\n",
        "\n",
        "brightened_image = np.clip(image + 50, 0, 255).astype(np.uint8)\n",
        "\n",
        "print(\"\\nBrightened Image:\\n\", brightened_image)\n",
        "\n",
        "# 5. Plot original and individual channels\n",
        "\n",
        "fig, axs = plt.subplots(1, 4, figsize=(12, 3))\n",
        "\n",
        "axs[0].imshow(image)\n",
        "\n",
        "axs[0].set_title(\"Original\")\n",
        "\n",
        "axs[0].axis(\"off\")\n",
        "\n",
        "axs[1].imshow(red_channel, cmap='Reds')\n",
        "\n",
        "axs[1].set_title(\"Red Channel\")\n",
        "\n",
        "axs[1].axis(\"off\")\n",
        "\n",
        "axs[2].imshow(green_channel, cmap='Greens')\n",
        "\n",
        "axs[2].set_title(\"Green Channel\")\n",
        "\n",
        "axs[2].axis(\"off\")\n",
        "\n",
        "axs[3].imshow(blue_channel, cmap='Blues')\n",
        "\n",
        "axs[3].set_title(\"Blue Channel\")\n",
        "\n",
        "axs[3].axis(\"off\")\n",
        "\n",
        "plt.tight_layout()\n",
        "\n",
        "plt.show()\n",
        "\n",
        "# 6. Show brightened image\n",
        "\n",
        "plt.imshow(brightened_image)\n",
        "\n",
        "plt.title(\"Brightened Image\")\n",
        "\n",
        "plt.axis(\"off\")\n",
        "\n",
        "plt.show()"
      ],
      "metadata": {
        "id": "GuSpJyhSj_zs",
        "outputId": "a723fd85-ecc4-4b74-b158-508ddfd95c14",
        "colab": {
          "base_uri": "https://localhost:8080/",
          "height": 1000
        }
      },
      "execution_count": 7,
      "outputs": [
        {
          "output_type": "stream",
          "name": "stdout",
          "text": [
            "Original RGB Image:\n",
            " [[[235 109 156]\n",
            "  [  2 103  23]\n",
            "  [ 77  76 101]]\n",
            "\n",
            " [[ 87  45 209]\n",
            "  [230  29 127]\n",
            "  [ 62 214 163]]\n",
            "\n",
            " [[ 17 176   1]\n",
            "  [143 109 135]\n",
            "  [ 77 170 144]]]\n",
            "\n",
            "Red Channel:\n",
            " [[235   2  77]\n",
            " [ 87 230  62]\n",
            " [ 17 143  77]]\n",
            "\n",
            "Green Channel:\n",
            " [[109 103  76]\n",
            " [ 45  29 214]\n",
            " [176 109 170]]\n",
            "\n",
            "Blue Channel:\n",
            " [[156  23 101]\n",
            " [209 127 163]\n",
            " [  1 135 144]]\n",
            "\n",
            "Average Intensities:\n",
            "Red: 103.33, Green: 114.56, Blue: 117.67\n",
            "\n",
            "Brightened Image:\n",
            " [[[ 29 159 206]\n",
            "  [ 52 153  73]\n",
            "  [127 126 151]]\n",
            "\n",
            " [[137  95   3]\n",
            "  [ 24  79 177]\n",
            "  [112   8 213]]\n",
            "\n",
            " [[ 67 226  51]\n",
            "  [193 159 185]\n",
            "  [127 220 194]]]\n"
          ]
        },
        {
          "output_type": "display_data",
          "data": {
            "text/plain": [
              "<Figure size 1200x300 with 4 Axes>"
            ],
            "image/png": "[encoded data removed]"
          },
          "metadata": {}
        },
        {
          "output_type": "display_data",
          "data": {
            "text/plain": [
              "<Figure size 640x480 with 1 Axes>"
            ],
            "image/png": "[encoded data removed]"
          },
          "metadata": {}
        }
      ]
    }
  ],
  "metadata": {
    "colab": {
      "name": "Welcome To Colab",
      "provenance": [],
      "include_colab_link": true
    },
    "kernelspec": {
      "display_name": "Python 3",
      "name": "python3"
    }
  },
  "nbformat": 4,
  "nbformat_minor": 0
}